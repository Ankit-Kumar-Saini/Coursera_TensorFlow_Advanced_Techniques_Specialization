{
 "cells": [
  {
   "cell_type": "markdown",
   "metadata": {},
   "source": [
    "<a href=\"https://colab.research.google.com/github/https-deeplearning-ai/tensorflow-3-public/blob/main/Course%202%20-%20Custom%20Training%20loops%2C%20Gradients%20and%20Distributed%20Training/Week%204%20-%20Distribution%20Strategy/C2_W4_Lab_3_using-TPU-strategy.ipynb\" target=\"_parent\"><img src=\"https://colab.research.google.com/assets/colab-badge.svg\" alt=\"Open In Colab\"/></a>"
   ]
  },
  {
   "cell_type": "markdown",
   "metadata": {},
   "source": [
    "# TPU Strategy \n",
    "\n",
    "In this ungraded lab you'll learn to set up the TPU Strategy. It is recommended you run this notebook in Colab by clicking the badge above. This will give you access to a TPU as mentioned in the walkthrough video. Make sure you set your `runtime` to `TPU.`"
   ]
  },
  {
   "cell_type": "markdown",
   "metadata": {
    "colab_type": "text",
    "id": "9xK02JDqVbTe"
   },
   "source": [
    "## Imports"
   ]
  },
  {
   "cell_type": "code",
   "execution_count": null,
   "metadata": {
    "colab": {},
    "colab_type": "code",
    "id": "EP04AdUeTh8_"
   },
   "outputs": [],
   "source": [
    "import os\n",
    "import random\n",
    "try:\n",
    "  # %tensorflow_version only exists in Colab.\n",
    "  %tensorflow_version 2.x\n",
    "except Exception:\n",
    "  pass\n",
    "\n",
    "import tensorflow as tf\n",
    "print(\"TensorFlow version \" + tf.__version__)\n",
    "AUTO = tf.data.experimental.AUTOTUNE"
   ]
  },
  {
   "cell_type": "markdown",
   "metadata": {
    "colab_type": "text",
    "id": "UaKGHPjWkcVj"
   },
   "source": [
    "## Set up TPUs and initialize TPU Strategy\n",
    "\n",
    "Ensure to change the runtime type to TPU in Runtime -> Change runtime type -> TPU"
   ]
  },
  {
   "cell_type": "code",
   "execution_count": null,
   "metadata": {
    "colab": {},
    "colab_type": "code",
    "id": "tmv6p137kgob"
   },
   "outputs": [],
   "source": [
    "# Detect hardware\n",
    "try:\n",
    "  tpu_address = 'grpc://' + os.environ['COLAB_TPU_ADDR']\n",
    "  tpu = tf.distribute.cluster_resolver.TPUClusterResolver(tpu_address) # TPU detection\n",
    "  tf.config.experimental_connect_to_cluster(tpu)\n",
    "  tf.tpu.experimental.initialize_tpu_system(tpu)\n",
    "  strategy = tf.distribute.experimental.TPUStrategy(tpu) \n",
    "  # Going back and forth between TPU and host is expensive.\n",
    "  # Better to run 128 batches on the TPU before reporting back.\n",
    "  print('Running on TPU ', tpu.cluster_spec().as_dict()['worker'])  \n",
    "  print(\"Number of accelerators: \", strategy.num_replicas_in_sync)\n",
    "except ValueError:\n",
    "  print('TPU failed to initialize.')"
   ]
  },
  {
   "cell_type": "markdown",
   "metadata": {
    "colab_type": "text",
    "id": "w9S3uKC_iXY5"
   },
   "source": [
    "## Download the Data from Google Cloud Storage\n"
   ]
  },
  {
   "cell_type": "code",
   "execution_count": null,
   "metadata": {
    "cellView": "both",
    "colab": {},
    "colab_type": "code",
    "id": "l7zy9Ze98Ip9"
   },
   "outputs": [],
   "source": [
    "SIZE = 224 #@param [\"192\", \"224\", \"331\", \"512\"] {type:\"raw\"}\n",
    "IMAGE_SIZE = [SIZE, SIZE]"
   ]
  },
  {
   "cell_type": "code",
   "execution_count": null,
   "metadata": {
    "colab": {},
    "colab_type": "code",
    "id": "M3G-2aUBQJ-H"
   },
   "outputs": [],
   "source": [
    "GCS_PATTERN = 'gs://flowers-public/tfrecords-jpeg-{}x{}/*.tfrec'.format(IMAGE_SIZE[0], IMAGE_SIZE[1])\n",
    "\n",
    "BATCH_SIZE = 128  # On TPU in Keras, this is the per-core batch size. The global batch size is 8x this.\n",
    "\n",
    "VALIDATION_SPLIT = 0.2\n",
    "CLASSES = ['daisy', 'dandelion', 'roses', 'sunflowers', 'tulips'] # do not change, maps to the labels in the data (folder names)\n",
    "\n",
    "# splitting data files between training and validation\n",
    "filenames = tf.io.gfile.glob(GCS_PATTERN)\n",
    "random.shuffle(filenames)\n",
    "\n",
    "split = int(len(filenames) * VALIDATION_SPLIT)\n",
    "training_filenames = filenames[split:]\n",
    "validation_filenames = filenames[:split]\n",
    "print(\"Pattern matches {} data files. Splitting dataset into {} training files and {} validation files\".format(len(filenames), len(training_filenames), len(validation_filenames)))\n",
    "\n",
    "validation_steps = int(3670 // len(filenames) * len(validation_filenames)) // BATCH_SIZE\n",
    "steps_per_epoch = int(3670 // len(filenames) * len(training_filenames)) // BATCH_SIZE\n",
    "print(\"With a batch size of {}, there will be {} batches per training epoch and {} batch(es) per validation run.\".format(BATCH_SIZE, steps_per_epoch, validation_steps))"
   ]
  },
  {
   "cell_type": "markdown",
   "metadata": {
    "colab_type": "text",
    "id": "kvPXiovhi3ZZ"
   },
   "source": [
    "## Create a dataset from the files\n",
    "\n",
    "- load_dataset takes the filenames and turns them into a tf.data.Dataset\n",
    "- read_tfrecord parses out a tf record into the image, class and a one-hot-encoded version of the class\n",
    "- Batch the data into training and validation sets with helper functions\n"
   ]
  },
  {
   "cell_type": "code",
   "execution_count": null,
   "metadata": {
    "colab": {},
    "colab_type": "code",
    "id": "LtAVr-4CP1rp"
   },
   "outputs": [],
   "source": [
    "def read_tfrecord(example):\n",
    "    features = {\n",
    "        \"image\": tf.io.FixedLenFeature([], tf.string), # tf.string means bytestring\n",
    "        \"class\": tf.io.FixedLenFeature([], tf.int64),  # shape [] means scalar\n",
    "        \"one_hot_class\": tf.io.VarLenFeature(tf.float32),\n",
    "    }\n",
    "    example = tf.io.parse_single_example(example, features)\n",
    "    image = example['image']\n",
    "    class_label = example['class']\n",
    "    image = tf.image.decode_jpeg(image, channels=3)\n",
    "    image = tf.image.resize(image, [224, 224])\n",
    "    image = tf.cast(image, tf.float32) / 255.0  # convert image to floats in [0, 1] range\n",
    "    class_label = tf.cast(class_label, tf.int32)\n",
    "    return image, class_label\n",
    "\n",
    "def load_dataset(filenames):\n",
    "  # read from TFRecords. For optimal performance, use \"interleave(tf.data.TFRecordDataset, ...)\"\n",
    "  # to read from multiple TFRecord files at once and set the option experimental_deterministic = False\n",
    "  # to allow order-altering optimizations.\n",
    "\n",
    "  option_no_order = tf.data.Options()\n",
    "  option_no_order.experimental_deterministic = False\n",
    "\n",
    "  dataset = tf.data.Dataset.from_tensor_slices(filenames)\n",
    "  dataset = dataset.with_options(option_no_order)\n",
    "  dataset = dataset.interleave(tf.data.TFRecordDataset, cycle_length=16, num_parallel_calls=AUTO) # faster\n",
    "  dataset = dataset.map(read_tfrecord, num_parallel_calls=AUTO)\n",
    "  return dataset\n",
    "\n",
    "def get_batched_dataset(filenames):\n",
    "  dataset = load_dataset(filenames)\n",
    "  dataset = dataset.shuffle(2048)\n",
    "  dataset = dataset.batch(BATCH_SIZE, drop_remainder=False) # drop_remainder will be needed on TPU\n",
    "  dataset = dataset.prefetch(AUTO) # prefetch next batch while training (autotune prefetch buffer size)\n",
    "  return dataset\n",
    "\n",
    "def get_training_dataset():\n",
    "  dataset = get_batched_dataset(training_filenames)\n",
    "  dataset = strategy.experimental_distribute_dataset(dataset)\n",
    "  return dataset\n",
    "\n",
    "def get_validation_dataset():\n",
    "  dataset = get_batched_dataset(validation_filenames)\n",
    "  dataset = strategy.experimental_distribute_dataset(dataset)\n",
    "  return dataset"
   ]
  },
  {
   "cell_type": "markdown",
   "metadata": {
    "colab_type": "text",
    "id": "dMfenMQcxAAb"
   },
   "source": [
    "## Define the Model and training parameters"
   ]
  },
  {
   "cell_type": "code",
   "execution_count": null,
   "metadata": {
    "colab": {},
    "colab_type": "code",
    "id": "4osPuniEF4Zv"
   },
   "outputs": [],
   "source": [
    "class MyModel(tf.keras.Model):\n",
    "  def __init__(self, classes):\n",
    "    super(MyModel, self).__init__()\n",
    "    self._conv1a = tf.keras.layers.Conv2D(kernel_size=3, filters=16, padding='same', activation='relu')\n",
    "    self._conv1b = tf.keras.layers.Conv2D(kernel_size=3, filters=30, padding='same', activation='relu')\n",
    "    self._maxpool1 = tf.keras.layers.MaxPooling2D(pool_size=2)\n",
    "    \n",
    "    self._conv2a = tf.keras.layers.Conv2D(kernel_size=3, filters=60, padding='same', activation='relu')\n",
    "    self._maxpool2 = tf.keras.layers.MaxPooling2D(pool_size=2)\n",
    "    \n",
    "    self._conv3a = tf.keras.layers.Conv2D(kernel_size=3, filters=90, padding='same', activation='relu')\n",
    "    self._maxpool3 = tf.keras.layers.MaxPooling2D(pool_size=2)\n",
    "    \n",
    "    self._conv4a = tf.keras.layers.Conv2D(kernel_size=3, filters=110, padding='same', activation='relu')\n",
    "    self._maxpool4 = tf.keras.layers.MaxPooling2D(pool_size=2)\n",
    "    \n",
    "    self._conv5a = tf.keras.layers.Conv2D(kernel_size=3, filters=130, padding='same', activation='relu')\n",
    "    self._conv5b = tf.keras.layers.Conv2D(kernel_size=3, filters=40, padding='same', activation='relu')\n",
    "    \n",
    "    self._pooling = tf.keras.layers.GlobalAveragePooling2D()\n",
    "    self._classifier = tf.keras.layers.Dense(classes, activation='softmax')\n",
    "\n",
    "  def call(self, inputs):\n",
    "    x = self._conv1a(inputs)\n",
    "    x = self._conv1b(x)\n",
    "    x = self._maxpool1(x)\n",
    "\n",
    "    x = self._conv2a(x)\n",
    "    x = self._maxpool2(x)\n",
    "\n",
    "    x = self._conv3a(x)\n",
    "    x = self._maxpool3(x)\n",
    "\n",
    "    x = self._conv4a(x)\n",
    "    x = self._maxpool4(x)\n",
    "\n",
    "    x = self._conv5a(x)\n",
    "    x = self._conv5b(x)\n",
    "\n",
    "    x = self._pooling(x)\n",
    "    x = self._classifier(x)\n",
    "    return x"
   ]
  },
  {
   "cell_type": "code",
   "execution_count": null,
   "metadata": {
    "colab": {},
    "colab_type": "code",
    "id": "vrj3bKq1HYfJ"
   },
   "outputs": [],
   "source": [
    "with strategy.scope():\n",
    "  model = MyModel(classes=len(CLASSES))\n",
    "  # Set reduction to `none` so we can do the reduction afterwards and divide by\n",
    "  # global batch size.\n",
    "  loss_object = tf.keras.losses.SparseCategoricalCrossentropy(\n",
    "      reduction=tf.keras.losses.Reduction.NONE)\n",
    "\n",
    "  def compute_loss(labels, predictions):\n",
    "    per_example_loss = loss_object(labels, predictions)\n",
    "    return tf.nn.compute_average_loss(per_example_loss, global_batch_size=BATCH_SIZE * strategy.num_replicas_in_sync)\n",
    "\n",
    "  test_loss = tf.keras.metrics.Mean(name='test_loss')\n",
    "\n",
    "  train_accuracy = tf.keras.metrics.SparseCategoricalAccuracy(\n",
    "      name='train_accuracy')\n",
    "  test_accuracy = tf.keras.metrics.SparseCategoricalAccuracy(\n",
    "      name='test_accuracy')\n",
    "  \n",
    "  optimizer = tf.keras.optimizers.Adam()\n",
    "\n",
    "  @tf.function\n",
    "  def distributed_train_step(dataset_inputs):\n",
    "    per_replica_losses = strategy.run(train_step,args=(dataset_inputs,))\n",
    "    print(per_replica_losses)\n",
    "    return strategy.reduce(tf.distribute.ReduceOp.SUM, per_replica_losses,\n",
    "                           axis=None)\n",
    " \n",
    "  @tf.function\n",
    "  def distributed_test_step(dataset_inputs):\n",
    "    strategy.run(test_step, args=(dataset_inputs,))\n",
    "\n",
    "\n",
    "  def train_step(inputs):\n",
    "    images, labels = inputs\n",
    "\n",
    "    with tf.GradientTape() as tape:\n",
    "      predictions = model(images)\n",
    "      loss = compute_loss(labels, predictions)\n",
    "\n",
    "    gradients = tape.gradient(loss, model.trainable_variables)\n",
    "    optimizer.apply_gradients(zip(gradients, model.trainable_variables))\n",
    "\n",
    "    train_accuracy.update_state(labels, predictions)\n",
    "\n",
    "    return loss \n",
    "\n",
    "  def test_step(inputs):\n",
    "    images, labels = inputs\n",
    "\n",
    "    predictions = model(images)\n",
    "    loss = loss_object(labels, predictions)\n",
    "\n",
    "    test_loss.update_state(loss)\n",
    "    test_accuracy.update_state(labels, predictions)\n"
   ]
  },
  {
   "cell_type": "code",
   "execution_count": null,
   "metadata": {
    "colab": {},
    "colab_type": "code",
    "id": "bfuYf6RSL8lj"
   },
   "outputs": [],
   "source": [
    "EPOCHS = 40\n",
    "with strategy.scope():\n",
    "  for epoch in range(EPOCHS):\n",
    "    # TRAINING LOOP\n",
    "    total_loss = 0.0\n",
    "    num_batches = 0\n",
    "    for x in get_training_dataset():\n",
    "      total_loss += distributed_train_step(x)\n",
    "      num_batches += 1\n",
    "    train_loss = total_loss / num_batches\n",
    "\n",
    "    # TESTING LOOP\n",
    "    for x in get_validation_dataset():\n",
    "      distributed_test_step(x)\n",
    "\n",
    "    template = (\"Epoch {}, Loss: {:.2f}, Accuracy: {:.2f}, Test Loss: {:.2f}, \"\n",
    "                \"Test Accuracy: {:.2f}\")\n",
    "    print (template.format(epoch+1, train_loss,\n",
    "                           train_accuracy.result()*100, test_loss.result() / strategy.num_replicas_in_sync,\n",
    "                           test_accuracy.result()*100))\n",
    "\n",
    "    test_loss.reset_states()\n",
    "    train_accuracy.reset_states()\n",
    "    test_accuracy.reset_states()"
   ]
  },
  {
   "cell_type": "markdown",
   "metadata": {
    "colab_type": "text",
    "id": "MKFMWzh0Yxsq"
   },
   "source": [
    "## Predictions"
   ]
  },
  {
   "cell_type": "code",
   "execution_count": null,
   "metadata": {
    "colab": {},
    "colab_type": "code",
    "id": "G2pso53Yd6Kg"
   },
   "outputs": [],
   "source": [
    "#@title display utilities [RUN ME]\n",
    "import matplotlib.pyplot as plt\n",
    "\n",
    "def dataset_to_numpy_util(dataset, N):\n",
    "  dataset = dataset.batch(N)\n",
    "  \n",
    "  if tf.executing_eagerly():\n",
    "    # In eager mode, iterate in the Datset directly.\n",
    "    for images, labels in dataset:\n",
    "      numpy_images = images.numpy()\n",
    "      numpy_labels = labels.numpy()\n",
    "      break;\n",
    "      \n",
    "  else: # In non-eager mode, must get the TF note that \n",
    "        # yields the nextitem and run it in a tf.Session.\n",
    "    get_next_item = dataset.make_one_shot_iterator().get_next()\n",
    "    with tf.Session() as ses:\n",
    "      numpy_images, numpy_labels = ses.run(get_next_item)\n",
    "\n",
    "  return numpy_images, numpy_labels\n",
    "\n",
    "def title_from_label_and_target(label, correct_label):\n",
    "  label = np.argmax(label, axis=-1)  # one-hot to class number\n",
    "  # correct_label = np.argmax(correct_label, axis=-1) # one-hot to class number\n",
    "  correct = (label == correct_label)\n",
    "  return \"{} [{}{}{}]\".format(CLASSES[label], str(correct), ', shoud be ' if not correct else '',\n",
    "                              CLASSES[correct_label] if not correct else ''), correct\n",
    "\n",
    "def display_one_flower(image, title, subplot, red=False):\n",
    "    plt.subplot(subplot)\n",
    "    plt.axis('off')\n",
    "    plt.imshow(image)\n",
    "    plt.title(title, fontsize=16, color='red' if red else 'black')\n",
    "    return subplot+1\n",
    "  \n",
    "def display_9_images_from_dataset(dataset):\n",
    "  subplot=331\n",
    "  plt.figure(figsize=(13,13))\n",
    "  images, labels = dataset_to_numpy_util(dataset, 9)\n",
    "  for i, image in enumerate(images):\n",
    "    title = CLASSES[np.argmax(labels[i], axis=-1)]\n",
    "    subplot = display_one_flower(image, title, subplot)\n",
    "    if i >= 8:\n",
    "      break;\n",
    "              \n",
    "  plt.tight_layout()\n",
    "  plt.subplots_adjust(wspace=0.1, hspace=0.1)\n",
    "  plt.show()\n",
    "  \n",
    "def display_9_images_with_predictions(images, predictions, labels):\n",
    "  subplot=331\n",
    "  plt.figure(figsize=(13,13))\n",
    "  for i, image in enumerate(images):\n",
    "    title, correct = title_from_label_and_target(predictions[i], labels[i])\n",
    "    subplot = display_one_flower(image, title, subplot, not correct)\n",
    "    if i >= 8:\n",
    "      break;\n",
    "              \n",
    "  plt.tight_layout()\n",
    "  plt.subplots_adjust(wspace=0.1, hspace=0.1)\n",
    "  plt.show()\n",
    "  \n",
    "def display_training_curves(training, validation, title, subplot):\n",
    "  if subplot%10==1: # set up the subplots on the first call\n",
    "    plt.subplots(figsize=(10,10), facecolor='#F0F0F0')\n",
    "    plt.tight_layout()\n",
    "  ax = plt.subplot(subplot)\n",
    "  ax.set_facecolor('#F8F8F8')\n",
    "  ax.plot(training)\n",
    "  ax.plot(validation)\n",
    "  ax.set_title('model '+ title)\n",
    "  ax.set_ylabel(title)\n",
    "  ax.set_xlabel('epoch')\n",
    "  ax.legend(['train', 'valid.'])"
   ]
  },
  {
   "cell_type": "code",
   "execution_count": null,
   "metadata": {
    "colab": {},
    "colab_type": "code",
    "id": "ExtZuDlh2Lem"
   },
   "outputs": [],
   "source": [
    "inference_model = model"
   ]
  },
  {
   "cell_type": "code",
   "execution_count": null,
   "metadata": {
    "colab": {},
    "colab_type": "code",
    "id": "oKx3gVmxhhZ2"
   },
   "outputs": [],
   "source": [
    "some_flowers, some_labels = dataset_to_numpy_util(load_dataset(validation_filenames), 8*20)"
   ]
  },
  {
   "cell_type": "code",
   "execution_count": null,
   "metadata": {
    "colab": {},
    "colab_type": "code",
    "id": "ehlsvY46Hs9z"
   },
   "outputs": [],
   "source": [
    "import numpy as np\n",
    "# randomize the input so that you can execute multiple times to change results\n",
    "permutation = np.random.permutation(8*20)\n",
    "some_flowers, some_labels = (some_flowers[permutation], some_labels[permutation])\n",
    "\n",
    "predictions = inference_model(some_flowers)\n",
    "\n",
    "print(np.array(CLASSES)[np.argmax(predictions, axis=-1)].tolist())\n",
    "\n",
    "display_9_images_with_predictions(some_flowers, predictions, some_labels)"
   ]
  }
 ],
 "metadata": {
  "accelerator": "TPU",
  "colab": {
   "collapsed_sections": [],
   "name": "UsingTPUStrategy.ipynb",
   "provenance": []
  },
  "kernelspec": {
   "display_name": "Python 3",
   "language": "python",
   "name": "python3"
  },
  "language_info": {
   "codemirror_mode": {
    "name": "ipython",
    "version": 3
   },
   "file_extension": ".py",
   "mimetype": "text/x-python",
   "name": "python",
   "nbconvert_exporter": "python",
   "pygments_lexer": "ipython3",
   "version": "3.7.6"
  }
 },
 "nbformat": 4,
 "nbformat_minor": 4
}
