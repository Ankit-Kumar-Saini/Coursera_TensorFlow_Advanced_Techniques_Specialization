{
 "cells": [
  {
   "cell_type": "markdown",
   "metadata": {},
   "source": [
    "# Basic Tensor operations and GradientTape.\n",
    "\n",
    "In this graded assignment, you will perform different tensor operations as well as use [GradientTape](https://www.tensorflow.org/api_docs/python/tf/GradientTape). These are important building blocks for the next parts of this course so it's important to master the basics. Let's begin!"
   ]
  },
  {
   "cell_type": "code",
   "execution_count": 1,
   "metadata": {
    "colab": {},
    "colab_type": "code",
    "id": "jqev488WJ9-R"
   },
   "outputs": [],
   "source": [
    "import tensorflow as tf\n",
    "import numpy as np"
   ]
  },
  {
   "cell_type": "markdown",
   "metadata": {},
   "source": [
    "## Exercise 1 - [tf.constant]((https://www.tensorflow.org/api_docs/python/tf/constant))\n",
    "\n",
    "Creates a constant tensor from a tensor-like object. "
   ]
  },
  {
   "cell_type": "code",
   "execution_count": 2,
   "metadata": {
    "colab": {},
    "colab_type": "code",
    "id": "MYdVyiSoLPgO"
   },
   "outputs": [],
   "source": [
    "# Convert NumPy array to Tensor using `tf.constant`\n",
    "def tf_constant(array):\n",
    "    \"\"\"\n",
    "    Args:\n",
    "        array (numpy.ndarray): tensor-like array.\n",
    "\n",
    "    Returns:\n",
    "        tensorflow.python.framework.ops.EagerTensor: tensor.\n",
    "    \"\"\"\n",
    "    ### START CODE HERE ###\n",
    "    tf_constant_array = tf.constant(array)\n",
    "    ### END CODE HERE ###\n",
    "    return tf_constant_array"
   ]
  },
  {
   "cell_type": "code",
   "execution_count": 3,
   "metadata": {},
   "outputs": [
    {
     "data": {
      "text/plain": [
       "<tf.Tensor: shape=(9,), dtype=int64, numpy=array([1, 2, 3, 4, 5, 6, 7, 8, 9])>"
      ]
     },
     "execution_count": 3,
     "metadata": {},
     "output_type": "execute_result"
    }
   ],
   "source": [
    "tmp_array = np.arange(1,10)\n",
    "x = tf_constant(tmp_array)\n",
    "x\n",
    "\n",
    "# Expected output:\n",
    "# <tf.Tensor: shape=(9,), dtype=int64, numpy=array([1, 2, 3, 4, 5, 6, 7, 8, 9])>"
   ]
  },
  {
   "cell_type": "markdown",
   "metadata": {},
   "source": [
    "Note that for future docstrings, the type `EagerTensor` will be used as a shortened version of `tensorflow.python.framework.ops.EagerTensor`."
   ]
  },
  {
   "cell_type": "markdown",
   "metadata": {},
   "source": [
    "## Exercise 2 - [tf.square](https://www.tensorflow.org/api_docs/python/tf/math/square)\n",
    "\n",
    "Computes the square of a tensor element-wise."
   ]
  },
  {
   "cell_type": "code",
   "execution_count": 4,
   "metadata": {
    "colab": {},
    "colab_type": "code",
    "id": "W6BTwNJCLjV8"
   },
   "outputs": [],
   "source": [
    "# Square the input tensor\n",
    "def tf_square(array):\n",
    "    \"\"\"\n",
    "    Args:\n",
    "        array (numpy.ndarray): tensor-like array.\n",
    "\n",
    "    Returns:\n",
    "        EagerTensor: tensor.\n",
    "    \"\"\"\n",
    "    # make sure it's a tensor\n",
    "    array = tf.constant(array)\n",
    "    \n",
    "    ### START CODE HERE ###\n",
    "    tf_squared_array = tf.square(array)\n",
    "    ### END CODE HERE ###\n",
    "    return tf_squared_array"
   ]
  },
  {
   "cell_type": "code",
   "execution_count": 5,
   "metadata": {},
   "outputs": [
    {
     "data": {
      "text/plain": [
       "<tf.Tensor: shape=(9,), dtype=int64, numpy=array([ 1,  4,  9, 16, 25, 36, 49, 64, 81])>"
      ]
     },
     "execution_count": 5,
     "metadata": {},
     "output_type": "execute_result"
    }
   ],
   "source": [
    "tmp_array = tf.constant(np.arange(1, 10))\n",
    "x = tf_square(tmp_array)\n",
    "x\n",
    "\n",
    "# Expected output:\n",
    "# <tf.Tensor: shape=(9,), dtype=int64, numpy=array([ 1,  4,  9, 16, 25, 36, 49, 64, 81])>"
   ]
  },
  {
   "cell_type": "markdown",
   "metadata": {},
   "source": [
    "## Exercise 3 - [tf.reshape](https://www.tensorflow.org/api_docs/python/tf/reshape)\n",
    "\n",
    "Reshapes a tensor."
   ]
  },
  {
   "cell_type": "code",
   "execution_count": 6,
   "metadata": {
    "colab": {},
    "colab_type": "code",
    "id": "7nzBSX8-L0Xt"
   },
   "outputs": [],
   "source": [
    "# Reshape tensor into a 3 x 3 matrix\n",
    "def tf_reshape(array, shape):\n",
    "    \"\"\"\n",
    "    Args:\n",
    "        array (EagerTensor): tensor to reshape.\n",
    "        shape (tuple): desired shape.\n",
    "\n",
    "    Returns:\n",
    "        EagerTensor: reshaped tensor.\n",
    "    \"\"\"\n",
    "    # make sure it's a tensor\n",
    "    array = tf.constant(array)\n",
    "    ### START CODE HERE ###\n",
    "    tf_reshaped_array = tf.reshape(array, shape = shape)\n",
    "    ### END CODE HERE ###\n",
    "    return tf_reshaped_array"
   ]
  },
  {
   "cell_type": "code",
   "execution_count": 7,
   "metadata": {},
   "outputs": [
    {
     "data": {
      "text/plain": [
       "<tf.Tensor: shape=(3, 3), dtype=int64, numpy=\n",
       "array([[1, 2, 3],\n",
       "       [4, 5, 6],\n",
       "       [7, 8, 9]])>"
      ]
     },
     "execution_count": 7,
     "metadata": {},
     "output_type": "execute_result"
    }
   ],
   "source": [
    "# Check your function\n",
    "tmp_array = np.array([1,2,3,4,5,6,7,8,9])\n",
    "# Check that your function reshapes a vector into a matrix\n",
    "x = tf_reshape(tmp_array, (3, 3))\n",
    "x\n",
    "\n",
    "# Expected output:\n",
    "# <tf.Tensor: shape=(3, 3), dtype=int64, numpy=\n",
    "# [[1, 2, 3],\n",
    "# [4, 5, 6],\n",
    "# [7, 8, 9]]"
   ]
  },
  {
   "cell_type": "markdown",
   "metadata": {},
   "source": [
    "## Exercise 4 - [tf.cast](https://www.tensorflow.org/api_docs/python/tf/cast)\n",
    "\n",
    "Casts a tensor to a new type."
   ]
  },
  {
   "cell_type": "code",
   "execution_count": 8,
   "metadata": {
    "colab": {},
    "colab_type": "code",
    "id": "VoT-jiAIL8x5"
   },
   "outputs": [],
   "source": [
    "# Cast tensor into float32 \n",
    "def tf_cast(array, dtype):\n",
    "    \"\"\"\n",
    "    Args:\n",
    "        array (EagerTensor): tensor to be casted.\n",
    "        dtype (tensorflow.python.framework.dtypes.DType): desired new type. (Should be a TF dtype!)\n",
    "\n",
    "    Returns:\n",
    "        EagerTensor: casted tensor.\n",
    "    \"\"\"\n",
    "    # make sure it's a tensor\n",
    "    array = tf.constant(array)\n",
    "\n",
    "    ### START CODE HERE ###\n",
    "    tf_cast_array = tf.cast(array, dtype = dtype)\n",
    "    ### END CODE HERE ###\n",
    "    return tf_cast_array"
   ]
  },
  {
   "cell_type": "code",
   "execution_count": 9,
   "metadata": {},
   "outputs": [
    {
     "data": {
      "text/plain": [
       "<tf.Tensor: shape=(4,), dtype=float32, numpy=array([1., 2., 3., 4.], dtype=float32)>"
      ]
     },
     "execution_count": 9,
     "metadata": {},
     "output_type": "execute_result"
    }
   ],
   "source": [
    "# Check your function\n",
    "tmp_array = [1,2,3,4]\n",
    "x = tf_cast(tmp_array, tf.float32)\n",
    "x\n",
    "\n",
    "# Expected output:\n",
    "# <tf.Tensor: shape=(4,), dtype=float32, numpy=array([1., 2., 3., 4.], dtype=float32)>"
   ]
  },
  {
   "cell_type": "markdown",
   "metadata": {},
   "source": [
    "## Exercise 5 - [tf.multiply](https://www.tensorflow.org/api_docs/python/tf/multiply)\n",
    "\n",
    "Returns an element-wise x * y."
   ]
  },
  {
   "cell_type": "code",
   "execution_count": 10,
   "metadata": {
    "colab": {},
    "colab_type": "code",
    "id": "ivepGtD5MKP5"
   },
   "outputs": [],
   "source": [
    "# Multiply tensor1 and tensor2\n",
    "def tf_multiply(tensor1, tensor2):\n",
    "    \"\"\"\n",
    "    Args:\n",
    "        tensor1 (EagerTensor): a tensor.\n",
    "        tensor2 (EagerTensor): another tensor.\n",
    "\n",
    "    Returns:\n",
    "        EagerTensor: resulting tensor.\n",
    "    \"\"\"\n",
    "    # make sure these are tensors\n",
    "    tensor1 = tf.constant(tensor1)\n",
    "    tensor2 = tf.constant(tensor2)\n",
    "    \n",
    "    ### START CODE HERE ###\n",
    "    product = tensor1 * tensor2\n",
    "    ### END CODE HERE ###\n",
    "    return product\n"
   ]
  },
  {
   "cell_type": "code",
   "execution_count": 11,
   "metadata": {},
   "outputs": [
    {
     "data": {
      "text/plain": [
       "<tf.Tensor: shape=(2, 2), dtype=int64, numpy=\n",
       "array([[2, 4],\n",
       "       [6, 8]])>"
      ]
     },
     "execution_count": 11,
     "metadata": {},
     "output_type": "execute_result"
    }
   ],
   "source": [
    "# Check your function\n",
    "tmp_1 = tf.constant(np.array([[1,2],[3,4]]))\n",
    "tmp_2 = tf.constant(np.array(2))\n",
    "result = tf_multiply(tmp_1, tmp_2)\n",
    "result\n",
    "\n",
    "# Expected output:\n",
    "# <tf.Tensor: shape=(2, 2), dtype=int64, numpy=\n",
    "# array([[2, 4],\n",
    "#        [6, 8]])>"
   ]
  },
  {
   "cell_type": "markdown",
   "metadata": {},
   "source": [
    "## Exercise 6 - [tf.add](https://www.tensorflow.org/api_docs/python/tf/add)\n",
    "\n",
    "Returns x + y element-wise."
   ]
  },
  {
   "cell_type": "code",
   "execution_count": 12,
   "metadata": {
    "colab": {},
    "colab_type": "code",
    "id": "BVlntdYnMboh"
   },
   "outputs": [],
   "source": [
    "# Add tensor1 and tensor2\n",
    "def tf_add(tensor1, tensor2):\n",
    "    \"\"\"\n",
    "    Args:\n",
    "        tensor1 (EagerTensor): a tensor.\n",
    "        tensor2 (EagerTensor): another tensor.\n",
    "\n",
    "    Returns:\n",
    "        EagerTensor: resulting tensor.\n",
    "    \"\"\"\n",
    "    # make sure these are tensors\n",
    "    tensor1 = tf.constant(tensor1)\n",
    "    tensor2 = tf.constant(tensor2)\n",
    "    \n",
    "    ### START CODE HERE ###\n",
    "    total = tensor1 + tensor2\n",
    "    ### END CODE HERE ###\n",
    "    return total"
   ]
  },
  {
   "cell_type": "code",
   "execution_count": 13,
   "metadata": {},
   "outputs": [
    {
     "data": {
      "text/plain": [
       "<tf.Tensor: shape=(3,), dtype=int64, numpy=array([5, 7, 9])>"
      ]
     },
     "execution_count": 13,
     "metadata": {},
     "output_type": "execute_result"
    }
   ],
   "source": [
    "# Check your function\n",
    "tmp_1 = tf.constant(np.array([1, 2, 3]))\n",
    "tmp_2 = tf.constant(np.array([4, 5, 6]))\n",
    "tf_add(tmp_1, tmp_2)\n",
    "\n",
    "# Expected output:\n",
    "# <tf.Tensor: shape=(3,), dtype=int64, numpy=array([5, 7, 9])>"
   ]
  },
  {
   "cell_type": "markdown",
   "metadata": {
    "colab_type": "text",
    "id": "9EN0W15EWNjD"
   },
   "source": [
    "## Exercise 7 - Gradient Tape\n",
    "\n",
    "Implement the function `tf_gradient_tape` by replacing the instances of `None` in the code below. The instructions are given in the code comments.\n",
    "\n",
    "You can review the [docs](https://www.tensorflow.org/api_docs/python/tf/GradientTape) or revisit the lectures to complete this task."
   ]
  },
  {
   "cell_type": "code",
   "execution_count": 14,
   "metadata": {
    "colab": {},
    "colab_type": "code",
    "id": "p3K94BWZM6nW"
   },
   "outputs": [],
   "source": [
    "def tf_gradient_tape(x):\n",
    "    \"\"\"\n",
    "    Args:\n",
    "        x (EagerTensor): a tensor.\n",
    "\n",
    "    Returns:\n",
    "        EagerTensor: Derivative of z with respect to the input tensor x.\n",
    "    \"\"\"\n",
    "    with tf.GradientTape() as t:\n",
    "        \n",
    "    ### START CODE HERE ###\n",
    "        # Record the actions performed on tensor x with `watch`\n",
    "        t.watch(x)   \n",
    "\n",
    "        # Define a polynomial of form 3x^3 - 2x^2 + x\n",
    "        y = 3 * x ** 3 - 2 * x ** 2 + x\n",
    "\n",
    "        # Obtain the sum of the elements in variable y\n",
    "        z = tf.reduce_sum(y)\n",
    "  \n",
    "    # Get the derivative of z with respect to the original input tensor x\n",
    "    dz_dx = t.gradient(z, x)\n",
    "    ### END CODE HERE\n",
    "    \n",
    "    return dz_dx"
   ]
  },
  {
   "cell_type": "code",
   "execution_count": 15,
   "metadata": {},
   "outputs": [
    {
     "data": {
      "text/plain": [
       "29.0"
      ]
     },
     "execution_count": 15,
     "metadata": {},
     "output_type": "execute_result"
    }
   ],
   "source": [
    "# Check your function\n",
    "tmp_x = tf.constant(2.0)\n",
    "dz_dx = tf_gradient_tape(tmp_x)\n",
    "result = dz_dx.numpy()\n",
    "result\n",
    "\n",
    "# Expected output:\n",
    "# 29.0"
   ]
  },
  {
   "cell_type": "markdown",
   "metadata": {},
   "source": [
    "**Congratulations on finishing this week's assignment!**\n",
    "\n",
    "**Keep it up!**"
   ]
  }
 ],
 "metadata": {
  "coursera": {
   "schema_names": [
    "TF3C2W1-1",
    "TF3C2W1-2",
    "TF3C2W1-3",
    "TF3C2W1-4",
    "TF3C2W1-5",
    "TF3C2W1-6",
    "TF3C2W1-7"
   ]
  },
  "kernelspec": {
   "display_name": "Python 3",
   "language": "python",
   "name": "python3"
  },
  "language_info": {
   "codemirror_mode": {
    "name": "ipython",
    "version": 3
   },
   "file_extension": ".py",
   "mimetype": "text/x-python",
   "name": "python",
   "nbconvert_exporter": "python",
   "pygments_lexer": "ipython3",
   "version": "3.7.6"
  }
 },
 "nbformat": 4,
 "nbformat_minor": 4
}
